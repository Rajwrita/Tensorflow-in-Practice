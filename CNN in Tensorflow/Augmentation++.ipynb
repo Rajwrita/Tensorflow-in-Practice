{
  "nbformat": 4,
  "nbformat_minor": 0,
  "metadata": {
    "accelerator": "GPU",
    "colab": {
      "name": "Course 2 - Part 4 - Lesson 4 - Notebook.ipynb",
      "provenance": [],
      "collapsed_sections": [],
      "toc_visible": true
    },
    "kernelspec": {
      "display_name": "Python 3",
      "name": "python3"
    }
  },
  "cells": [
    {
      "cell_type": "markdown",
      "metadata": {
        "colab_type": "text",
        "id": "rX8mhOLljYeM"
      },
      "source": [
        "##### Copyright 2019 The TensorFlow Authors."
      ]
    },
    {
      "cell_type": "code",
      "metadata": {
        "cellView": "form",
        "colab_type": "code",
        "id": "BZSlp3DAjdYf",
        "colab": {}
      },
      "source": [
        "#@title Licensed under the Apache License, Version 2.0 (the \"License\");\n",
        "# you may not use this file except in compliance with the License.\n",
        "# You may obtain a copy of the License at\n",
        "#\n",
        "# https://www.apache.org/licenses/LICENSE-2.0\n",
        "#\n",
        "# Unless required by applicable law or agreed to in writing, software\n",
        "# distributed under the License is distributed on an \"AS IS\" BASIS,\n",
        "# WITHOUT WARRANTIES OR CONDITIONS OF ANY KIND, either express or implied.\n",
        "# See the License for the specific language governing permissions and\n",
        "# limitations under the License."
      ],
      "execution_count": null,
      "outputs": []
    },
    {
      "cell_type": "code",
      "metadata": {
        "colab_type": "code",
        "id": "RXZT2UsyIVe_",
        "colab": {
          "base_uri": "https://localhost:8080/",
          "height": 391
        },
        "outputId": "4385ce93-bd29-4c1f-833c-d94952328c52"
      },
      "source": [
        "!wget --no-check-certificate \\\n",
        "    https://storage.googleapis.com/laurencemoroney-blog.appspot.com/horse-or-human.zip \\\n",
        "    -O /tmp/horse-or-human.zip\n",
        "\n",
        "!wget --no-check-certificate \\\n",
        "    https://storage.googleapis.com/laurencemoroney-blog.appspot.com/validation-horse-or-human.zip \\\n",
        "    -O /tmp/validation-horse-or-human.zip\n",
        "  \n",
        "import os\n",
        "import zipfile\n",
        "\n",
        "local_zip = '/tmp/horse-or-human.zip'\n",
        "zip_ref = zipfile.ZipFile(local_zip, 'r')\n",
        "zip_ref.extractall('/tmp/horse-or-human')\n",
        "local_zip = '/tmp/validation-horse-or-human.zip'\n",
        "zip_ref = zipfile.ZipFile(local_zip, 'r')\n",
        "zip_ref.extractall('/tmp/validation-horse-or-human')\n",
        "zip_ref.close()\n",
        "# Directory with our training horse pictures\n",
        "train_horse_dir = os.path.join('/tmp/horse-or-human/horses')\n",
        "\n",
        "# Directory with our training human pictures\n",
        "train_human_dir = os.path.join('/tmp/horse-or-human/humans')\n",
        "\n",
        "# Directory with our training horse pictures\n",
        "validation_horse_dir = os.path.join('/tmp/validation-horse-or-human/horses')\n",
        "\n",
        "# Directory with our training human pictures\n",
        "validation_human_dir = os.path.join('/tmp/validation-horse-or-human/humans')"
      ],
      "execution_count": 1,
      "outputs": [
        {
          "output_type": "stream",
          "text": [
            "--2020-06-20 05:57:38--  https://storage.googleapis.com/laurencemoroney-blog.appspot.com/horse-or-human.zip\n",
            "Resolving storage.googleapis.com (storage.googleapis.com)... 172.217.194.128, 2404:6800:4003:c04::80\n",
            "Connecting to storage.googleapis.com (storage.googleapis.com)|172.217.194.128|:443... connected.\n",
            "HTTP request sent, awaiting response... 200 OK\n",
            "Length: 149574867 (143M) [application/zip]\n",
            "Saving to: ‘/tmp/horse-or-human.zip’\n",
            "\n",
            "/tmp/horse-or-human 100%[===================>] 142.65M  76.0MB/s    in 1.9s    \n",
            "\n",
            "2020-06-20 05:57:40 (76.0 MB/s) - ‘/tmp/horse-or-human.zip’ saved [149574867/149574867]\n",
            "\n",
            "--2020-06-20 05:57:43--  https://storage.googleapis.com/laurencemoroney-blog.appspot.com/validation-horse-or-human.zip\n",
            "Resolving storage.googleapis.com (storage.googleapis.com)... 172.217.194.128, 2404:6800:4003:c01::80\n",
            "Connecting to storage.googleapis.com (storage.googleapis.com)|172.217.194.128|:443... connected.\n",
            "HTTP request sent, awaiting response... 200 OK\n",
            "Length: 11480187 (11M) [application/zip]\n",
            "Saving to: ‘/tmp/validation-horse-or-human.zip’\n",
            "\n",
            "/tmp/validation-hor 100%[===================>]  10.95M  --.-KB/s    in 0.07s   \n",
            "\n",
            "2020-06-20 05:57:44 (156 MB/s) - ‘/tmp/validation-horse-or-human.zip’ saved [11480187/11480187]\n",
            "\n"
          ],
          "name": "stdout"
        }
      ]
    },
    {
      "cell_type": "markdown",
      "metadata": {
        "colab_type": "text",
        "id": "5oqBkNBJmtUv"
      },
      "source": [
        "## Building a Small Model from Scratch\n",
        "\n",
        "But before we continue, let's start defining the model:\n",
        "\n",
        "Step 1 will be to import tensorflow."
      ]
    },
    {
      "cell_type": "code",
      "metadata": {
        "colab_type": "code",
        "id": "qvfZg3LQbD-5",
        "colab": {}
      },
      "source": [
        "import tensorflow as tf"
      ],
      "execution_count": 2,
      "outputs": []
    },
    {
      "cell_type": "markdown",
      "metadata": {
        "colab_type": "text",
        "id": "BnhYCP4tdqjC"
      },
      "source": [
        "We then add convolutional layers as in the previous example, and flatten the final result to feed into the densely connected layers."
      ]
    },
    {
      "cell_type": "markdown",
      "metadata": {
        "colab_type": "text",
        "id": "gokG5HKpdtzm"
      },
      "source": [
        "Finally we add the densely connected layers. \n",
        "\n",
        "Note that because we are facing a two-class classification problem, i.e. a *binary classification problem*, we will end our network with a [*sigmoid* activation](https://wikipedia.org/wiki/Sigmoid_function), so that the output of our network will be a single scalar between 0 and 1, encoding the probability that the current image is class 1 (as opposed to class 0)."
      ]
    },
    {
      "cell_type": "code",
      "metadata": {
        "colab_type": "code",
        "id": "PixZ2s5QbYQ3",
        "colab": {}
      },
      "source": [
        "model = tf.keras.models.Sequential([\n",
        "    # Note the input shape is the desired size of the image 300x300 with 3 bytes color\n",
        "    # This is the first convolution\n",
        "    tf.keras.layers.Conv2D(16, (3,3), activation='relu', input_shape=(300, 300, 3)),\n",
        "    tf.keras.layers.MaxPooling2D(2, 2),\n",
        "    # The second convolution\n",
        "    tf.keras.layers.Conv2D(32, (3,3), activation='relu'),\n",
        "    tf.keras.layers.MaxPooling2D(2,2),\n",
        "    # The third convolution\n",
        "    tf.keras.layers.Conv2D(64, (3,3), activation='relu'),\n",
        "    tf.keras.layers.MaxPooling2D(2,2),\n",
        "    # The fourth convolution\n",
        "    tf.keras.layers.Conv2D(64, (3,3), activation='relu'),\n",
        "    tf.keras.layers.MaxPooling2D(2,2),\n",
        "    # The fifth convolution\n",
        "    tf.keras.layers.Conv2D(64, (3,3), activation='relu'),\n",
        "    tf.keras.layers.MaxPooling2D(2,2),\n",
        "    # Flatten the results to feed into a DNN\n",
        "    tf.keras.layers.Flatten(),\n",
        "    # 512 neuron hidden layer\n",
        "    tf.keras.layers.Dense(512, activation='relu'),\n",
        "    # Only 1 output neuron. It will contain a value from 0-1 where 0 for 1 class ('horses') and 1 for the other ('humans')\n",
        "    tf.keras.layers.Dense(1, activation='sigmoid')\n",
        "])"
      ],
      "execution_count": 3,
      "outputs": []
    },
    {
      "cell_type": "code",
      "metadata": {
        "colab_type": "code",
        "id": "8DHWhFP_uhq3",
        "colab": {}
      },
      "source": [
        "from tensorflow.keras.optimizers import RMSprop\n",
        "\n",
        "model.compile(loss='binary_crossentropy',\n",
        "              optimizer=RMSprop(lr=1e-4),\n",
        "              metrics=['accuracy'])"
      ],
      "execution_count": 4,
      "outputs": []
    },
    {
      "cell_type": "code",
      "metadata": {
        "colab_type": "code",
        "id": "ClebU9NJg99G",
        "colab": {
          "base_uri": "https://localhost:8080/",
          "height": 51
        },
        "outputId": "9cd54618-2a6d-4a74-eef5-f7299e8115ff"
      },
      "source": [
        "from tensorflow.keras.preprocessing.image import ImageDataGenerator\n",
        "\n",
        "# All images will be rescaled by 1./255\n",
        "train_datagen = ImageDataGenerator(\n",
        "      rescale=1./255,\n",
        "      rotation_range=40,\n",
        "      width_shift_range=0.2,\n",
        "      height_shift_range=0.2,\n",
        "      shear_range=0.2,\n",
        "      zoom_range=0.2,\n",
        "      horizontal_flip=True,\n",
        "      fill_mode='nearest')\n",
        "\n",
        "validation_datagen = ImageDataGenerator(rescale=1/255)\n",
        "\n",
        "# Flow training images in batches of 128 using train_datagen generator\n",
        "train_generator = train_datagen.flow_from_directory(\n",
        "        '/tmp/horse-or-human/',  # This is the source directory for training images\n",
        "        target_size=(300, 300),  # All images will be resized to 150x150\n",
        "        batch_size=128,\n",
        "        # Since we use binary_crossentropy loss, we need binary labels\n",
        "        class_mode='binary')\n",
        "\n",
        "# Flow training images in batches of 128 using train_datagen generator\n",
        "validation_generator = validation_datagen.flow_from_directory(\n",
        "        '/tmp/validation-horse-or-human/',  # This is the source directory for training images\n",
        "        target_size=(300, 300),  # All images will be resized to 150x150\n",
        "        batch_size=32,\n",
        "        # Since we use binary_crossentropy loss, we need binary labels\n",
        "        class_mode='binary')"
      ],
      "execution_count": 5,
      "outputs": [
        {
          "output_type": "stream",
          "text": [
            "Found 1027 images belonging to 2 classes.\n",
            "Found 256 images belonging to 2 classes.\n"
          ],
          "name": "stdout"
        }
      ]
    },
    {
      "cell_type": "code",
      "metadata": {
        "colab_type": "code",
        "id": "Fb1_lgobv81m",
        "colab": {
          "base_uri": "https://localhost:8080/",
          "height": 1000
        },
        "outputId": "2617ee09-85eb-454b-c806-eedadfe07582"
      },
      "source": [
        "history = model.fit(\n",
        "      train_generator,\n",
        "      steps_per_epoch=8,  \n",
        "      epochs=100,\n",
        "      verbose=1,\n",
        "      validation_data = validation_generator,\n",
        "      validation_steps=8)"
      ],
      "execution_count": 6,
      "outputs": [
        {
          "output_type": "stream",
          "text": [
            "Epoch 1/100\n",
            "8/8 [==============================] - 18s 2s/step - loss: 0.6988 - accuracy: 0.4939 - val_loss: 0.6734 - val_accuracy: 0.6367\n",
            "Epoch 2/100\n",
            "8/8 [==============================] - 20s 2s/step - loss: 0.6783 - accuracy: 0.5729 - val_loss: 0.6558 - val_accuracy: 0.5625\n",
            "Epoch 3/100\n",
            "8/8 [==============================] - 20s 2s/step - loss: 0.6769 - accuracy: 0.5984 - val_loss: 0.6361 - val_accuracy: 0.5820\n",
            "Epoch 4/100\n",
            "8/8 [==============================] - 22s 3s/step - loss: 0.6313 - accuracy: 0.7217 - val_loss: 0.5992 - val_accuracy: 0.6797\n",
            "Epoch 5/100\n",
            "8/8 [==============================] - 20s 2s/step - loss: 0.6000 - accuracy: 0.7119 - val_loss: 0.5355 - val_accuracy: 0.8281\n",
            "Epoch 6/100\n",
            "8/8 [==============================] - 20s 2s/step - loss: 0.5897 - accuracy: 0.7097 - val_loss: 0.6222 - val_accuracy: 0.5938\n",
            "Epoch 7/100\n",
            "8/8 [==============================] - 20s 2s/step - loss: 0.5550 - accuracy: 0.7319 - val_loss: 0.6702 - val_accuracy: 0.5898\n",
            "Epoch 8/100\n",
            "8/8 [==============================] - 20s 2s/step - loss: 0.5170 - accuracy: 0.7564 - val_loss: 0.9532 - val_accuracy: 0.5312\n",
            "Epoch 9/100\n",
            "8/8 [==============================] - 19s 2s/step - loss: 0.5365 - accuracy: 0.7197 - val_loss: 0.7069 - val_accuracy: 0.5977\n",
            "Epoch 10/100\n",
            "8/8 [==============================] - 20s 2s/step - loss: 0.5168 - accuracy: 0.7575 - val_loss: 0.7718 - val_accuracy: 0.5859\n",
            "Epoch 11/100\n",
            "8/8 [==============================] - 20s 2s/step - loss: 0.4744 - accuracy: 0.7809 - val_loss: 0.8055 - val_accuracy: 0.5938\n",
            "Epoch 12/100\n",
            "8/8 [==============================] - 19s 2s/step - loss: 0.4971 - accuracy: 0.7486 - val_loss: 0.5992 - val_accuracy: 0.6797\n",
            "Epoch 13/100\n",
            "8/8 [==============================] - 19s 2s/step - loss: 0.5268 - accuracy: 0.7508 - val_loss: 0.6781 - val_accuracy: 0.6719\n",
            "Epoch 14/100\n",
            "8/8 [==============================] - 19s 2s/step - loss: 0.4808 - accuracy: 0.7898 - val_loss: 0.8842 - val_accuracy: 0.6055\n",
            "Epoch 15/100\n",
            "8/8 [==============================] - 19s 2s/step - loss: 0.4938 - accuracy: 0.7697 - val_loss: 0.9986 - val_accuracy: 0.5938\n",
            "Epoch 16/100\n",
            "8/8 [==============================] - 19s 2s/step - loss: 0.4778 - accuracy: 0.7875 - val_loss: 1.2704 - val_accuracy: 0.5352\n",
            "Epoch 17/100\n",
            "8/8 [==============================] - 19s 2s/step - loss: 0.4280 - accuracy: 0.8020 - val_loss: 0.9521 - val_accuracy: 0.6094\n",
            "Epoch 18/100\n",
            "8/8 [==============================] - 21s 3s/step - loss: 0.4073 - accuracy: 0.8291 - val_loss: 1.1812 - val_accuracy: 0.5898\n",
            "Epoch 19/100\n",
            "8/8 [==============================] - 19s 2s/step - loss: 0.4390 - accuracy: 0.7864 - val_loss: 1.1597 - val_accuracy: 0.5938\n",
            "Epoch 20/100\n",
            "8/8 [==============================] - 19s 2s/step - loss: 0.4343 - accuracy: 0.7976 - val_loss: 1.0432 - val_accuracy: 0.6250\n",
            "Epoch 21/100\n",
            "8/8 [==============================] - 19s 2s/step - loss: 0.3780 - accuracy: 0.8265 - val_loss: 0.7342 - val_accuracy: 0.7266\n",
            "Epoch 22/100\n",
            "8/8 [==============================] - 19s 2s/step - loss: 0.4002 - accuracy: 0.8198 - val_loss: 0.9203 - val_accuracy: 0.6875\n",
            "Epoch 23/100\n",
            "8/8 [==============================] - 19s 2s/step - loss: 0.3465 - accuracy: 0.8387 - val_loss: 1.0672 - val_accuracy: 0.6797\n",
            "Epoch 24/100\n",
            "8/8 [==============================] - 19s 2s/step - loss: 0.3820 - accuracy: 0.8354 - val_loss: 1.5609 - val_accuracy: 0.5938\n",
            "Epoch 25/100\n",
            "8/8 [==============================] - 19s 2s/step - loss: 0.4206 - accuracy: 0.7953 - val_loss: 0.9595 - val_accuracy: 0.6641\n",
            "Epoch 26/100\n",
            "8/8 [==============================] - 19s 2s/step - loss: 0.3777 - accuracy: 0.8365 - val_loss: 1.3745 - val_accuracy: 0.6016\n",
            "Epoch 27/100\n",
            "8/8 [==============================] - 19s 2s/step - loss: 0.3498 - accuracy: 0.8432 - val_loss: 1.3799 - val_accuracy: 0.6094\n",
            "Epoch 28/100\n",
            "8/8 [==============================] - 19s 2s/step - loss: 0.3161 - accuracy: 0.8699 - val_loss: 0.9668 - val_accuracy: 0.6992\n",
            "Epoch 29/100\n",
            "8/8 [==============================] - 18s 2s/step - loss: 0.3661 - accuracy: 0.8220 - val_loss: 2.0499 - val_accuracy: 0.5508\n",
            "Epoch 30/100\n",
            "8/8 [==============================] - 19s 2s/step - loss: 0.3256 - accuracy: 0.8532 - val_loss: 1.8328 - val_accuracy: 0.5703\n",
            "Epoch 31/100\n",
            "8/8 [==============================] - 19s 2s/step - loss: 0.3361 - accuracy: 0.8432 - val_loss: 1.6921 - val_accuracy: 0.5859\n",
            "Epoch 32/100\n",
            "8/8 [==============================] - 19s 2s/step - loss: 0.3707 - accuracy: 0.8398 - val_loss: 1.3796 - val_accuracy: 0.6094\n",
            "Epoch 33/100\n",
            "8/8 [==============================] - 18s 2s/step - loss: 0.2810 - accuracy: 0.8888 - val_loss: 1.2279 - val_accuracy: 0.6680\n",
            "Epoch 34/100\n",
            "8/8 [==============================] - 18s 2s/step - loss: 0.3110 - accuracy: 0.8665 - val_loss: 1.0144 - val_accuracy: 0.7109\n",
            "Epoch 35/100\n",
            "8/8 [==============================] - 18s 2s/step - loss: 0.3961 - accuracy: 0.8309 - val_loss: 1.6646 - val_accuracy: 0.5938\n",
            "Epoch 36/100\n",
            "8/8 [==============================] - 18s 2s/step - loss: 0.2925 - accuracy: 0.8776 - val_loss: 2.3481 - val_accuracy: 0.5547\n",
            "Epoch 37/100\n",
            "8/8 [==============================] - 18s 2s/step - loss: 0.2926 - accuracy: 0.8788 - val_loss: 1.8248 - val_accuracy: 0.5938\n",
            "Epoch 38/100\n",
            "8/8 [==============================] - 19s 2s/step - loss: 0.3129 - accuracy: 0.8576 - val_loss: 1.6661 - val_accuracy: 0.6133\n",
            "Epoch 39/100\n",
            "8/8 [==============================] - 21s 3s/step - loss: 0.2750 - accuracy: 0.8887 - val_loss: 1.0992 - val_accuracy: 0.7070\n",
            "Epoch 40/100\n",
            "8/8 [==============================] - 18s 2s/step - loss: 0.2881 - accuracy: 0.8765 - val_loss: 0.5508 - val_accuracy: 0.8125\n",
            "Epoch 41/100\n",
            "8/8 [==============================] - 18s 2s/step - loss: 0.3339 - accuracy: 0.8776 - val_loss: 1.8870 - val_accuracy: 0.5703\n",
            "Epoch 42/100\n",
            "8/8 [==============================] - 21s 3s/step - loss: 0.2380 - accuracy: 0.9077 - val_loss: 2.2891 - val_accuracy: 0.5547\n",
            "Epoch 43/100\n",
            "8/8 [==============================] - 18s 2s/step - loss: 0.2666 - accuracy: 0.8888 - val_loss: 2.6900 - val_accuracy: 0.5508\n",
            "Epoch 44/100\n",
            "8/8 [==============================] - 20s 3s/step - loss: 0.2736 - accuracy: 0.8848 - val_loss: 2.4209 - val_accuracy: 0.5703\n",
            "Epoch 45/100\n",
            "8/8 [==============================] - 20s 3s/step - loss: 0.2697 - accuracy: 0.8740 - val_loss: 1.5442 - val_accuracy: 0.6758\n",
            "Epoch 46/100\n",
            "8/8 [==============================] - 21s 3s/step - loss: 0.2715 - accuracy: 0.8877 - val_loss: 2.9452 - val_accuracy: 0.5430\n",
            "Epoch 47/100\n",
            "8/8 [==============================] - 19s 2s/step - loss: 0.2527 - accuracy: 0.9077 - val_loss: 1.3071 - val_accuracy: 0.7070\n",
            "Epoch 48/100\n",
            "8/8 [==============================] - 18s 2s/step - loss: 0.2313 - accuracy: 0.9043 - val_loss: 2.2160 - val_accuracy: 0.6016\n",
            "Epoch 49/100\n",
            "8/8 [==============================] - 18s 2s/step - loss: 0.2571 - accuracy: 0.8910 - val_loss: 3.1940 - val_accuracy: 0.5586\n",
            "Epoch 50/100\n",
            "8/8 [==============================] - 18s 2s/step - loss: 0.2640 - accuracy: 0.8910 - val_loss: 1.4108 - val_accuracy: 0.6836\n",
            "Epoch 51/100\n",
            "8/8 [==============================] - 19s 2s/step - loss: 0.2662 - accuracy: 0.8888 - val_loss: 1.7034 - val_accuracy: 0.6562\n",
            "Epoch 52/100\n",
            "8/8 [==============================] - 18s 2s/step - loss: 0.1971 - accuracy: 0.9266 - val_loss: 2.4188 - val_accuracy: 0.6211\n",
            "Epoch 53/100\n",
            "8/8 [==============================] - 20s 3s/step - loss: 0.2613 - accuracy: 0.8877 - val_loss: 2.1169 - val_accuracy: 0.6289\n",
            "Epoch 54/100\n",
            "8/8 [==============================] - 18s 2s/step - loss: 0.2038 - accuracy: 0.9166 - val_loss: 2.2317 - val_accuracy: 0.6406\n",
            "Epoch 55/100\n",
            "8/8 [==============================] - 18s 2s/step - loss: 0.2144 - accuracy: 0.9232 - val_loss: 2.1525 - val_accuracy: 0.6523\n",
            "Epoch 56/100\n",
            "8/8 [==============================] - 18s 2s/step - loss: 0.2101 - accuracy: 0.9066 - val_loss: 2.3110 - val_accuracy: 0.6641\n",
            "Epoch 57/100\n",
            "8/8 [==============================] - 18s 2s/step - loss: 0.2951 - accuracy: 0.8543 - val_loss: 2.6138 - val_accuracy: 0.6016\n",
            "Epoch 58/100\n",
            "8/8 [==============================] - 18s 2s/step - loss: 0.1828 - accuracy: 0.9344 - val_loss: 5.0237 - val_accuracy: 0.5039\n",
            "Epoch 59/100\n",
            "8/8 [==============================] - 18s 2s/step - loss: 0.2639 - accuracy: 0.8977 - val_loss: 2.7465 - val_accuracy: 0.6172\n",
            "Epoch 60/100\n",
            "8/8 [==============================] - 21s 3s/step - loss: 0.1839 - accuracy: 0.9355 - val_loss: 2.1402 - val_accuracy: 0.6641\n",
            "Epoch 61/100\n",
            "8/8 [==============================] - 18s 2s/step - loss: 0.2181 - accuracy: 0.9066 - val_loss: 2.8292 - val_accuracy: 0.6094\n",
            "Epoch 62/100\n",
            "8/8 [==============================] - 18s 2s/step - loss: 0.2026 - accuracy: 0.9132 - val_loss: 4.0865 - val_accuracy: 0.5273\n",
            "Epoch 63/100\n",
            "8/8 [==============================] - 18s 2s/step - loss: 0.2321 - accuracy: 0.9032 - val_loss: 2.7481 - val_accuracy: 0.6172\n",
            "Epoch 64/100\n",
            "8/8 [==============================] - 21s 3s/step - loss: 0.1977 - accuracy: 0.9121 - val_loss: 2.5840 - val_accuracy: 0.6133\n",
            "Epoch 65/100\n",
            "8/8 [==============================] - 21s 3s/step - loss: 0.1811 - accuracy: 0.9244 - val_loss: 3.2646 - val_accuracy: 0.5898\n",
            "Epoch 66/100\n",
            "8/8 [==============================] - 18s 2s/step - loss: 0.4736 - accuracy: 0.8799 - val_loss: 2.2789 - val_accuracy: 0.6562\n",
            "Epoch 67/100\n",
            "8/8 [==============================] - 18s 2s/step - loss: 0.1654 - accuracy: 0.9433 - val_loss: 2.6953 - val_accuracy: 0.6406\n",
            "Epoch 68/100\n",
            "8/8 [==============================] - 21s 3s/step - loss: 0.1641 - accuracy: 0.9410 - val_loss: 2.8046 - val_accuracy: 0.6406\n",
            "Epoch 69/100\n",
            "8/8 [==============================] - 18s 2s/step - loss: 0.1642 - accuracy: 0.9355 - val_loss: 2.9443 - val_accuracy: 0.6328\n",
            "Epoch 70/100\n",
            "8/8 [==============================] - 18s 2s/step - loss: 0.2559 - accuracy: 0.8865 - val_loss: 2.0639 - val_accuracy: 0.6680\n",
            "Epoch 71/100\n",
            "8/8 [==============================] - 18s 2s/step - loss: 0.1708 - accuracy: 0.9422 - val_loss: 2.2644 - val_accuracy: 0.6602\n",
            "Epoch 72/100\n",
            "8/8 [==============================] - 18s 2s/step - loss: 0.1445 - accuracy: 0.9544 - val_loss: 3.4558 - val_accuracy: 0.5859\n",
            "Epoch 73/100\n",
            "8/8 [==============================] - 18s 2s/step - loss: 0.1716 - accuracy: 0.9344 - val_loss: 3.0336 - val_accuracy: 0.6055\n",
            "Epoch 74/100\n",
            "8/8 [==============================] - 18s 2s/step - loss: 0.1794 - accuracy: 0.9232 - val_loss: 2.1124 - val_accuracy: 0.6719\n",
            "Epoch 75/100\n",
            "8/8 [==============================] - 18s 2s/step - loss: 0.1842 - accuracy: 0.9333 - val_loss: 2.7439 - val_accuracy: 0.6484\n",
            "Epoch 76/100\n",
            "8/8 [==============================] - 20s 3s/step - loss: 0.1562 - accuracy: 0.9385 - val_loss: 3.2669 - val_accuracy: 0.6055\n",
            "Epoch 77/100\n",
            "8/8 [==============================] - 18s 2s/step - loss: 0.2301 - accuracy: 0.9132 - val_loss: 2.6101 - val_accuracy: 0.6445\n",
            "Epoch 78/100\n",
            "8/8 [==============================] - 18s 2s/step - loss: 0.1828 - accuracy: 0.9199 - val_loss: 4.1260 - val_accuracy: 0.5508\n",
            "Epoch 79/100\n",
            "8/8 [==============================] - 18s 2s/step - loss: 0.1675 - accuracy: 0.9355 - val_loss: 3.3302 - val_accuracy: 0.6016\n",
            "Epoch 80/100\n",
            "8/8 [==============================] - 21s 3s/step - loss: 0.1430 - accuracy: 0.9422 - val_loss: 2.8063 - val_accuracy: 0.6523\n",
            "Epoch 81/100\n",
            "8/8 [==============================] - 21s 3s/step - loss: 0.1536 - accuracy: 0.9321 - val_loss: 2.4054 - val_accuracy: 0.6523\n",
            "Epoch 82/100\n",
            "8/8 [==============================] - 18s 2s/step - loss: 0.1710 - accuracy: 0.9310 - val_loss: 1.3948 - val_accuracy: 0.7461\n",
            "Epoch 83/100\n",
            "8/8 [==============================] - 20s 3s/step - loss: 0.1715 - accuracy: 0.9336 - val_loss: 2.6406 - val_accuracy: 0.6484\n",
            "Epoch 84/100\n",
            "8/8 [==============================] - 21s 3s/step - loss: 0.1647 - accuracy: 0.9255 - val_loss: 1.8550 - val_accuracy: 0.6914\n",
            "Epoch 85/100\n",
            "8/8 [==============================] - 18s 2s/step - loss: 0.2305 - accuracy: 0.9043 - val_loss: 2.4033 - val_accuracy: 0.6523\n",
            "Epoch 86/100\n",
            "8/8 [==============================] - 18s 2s/step - loss: 0.1280 - accuracy: 0.9555 - val_loss: 2.6472 - val_accuracy: 0.6523\n",
            "Epoch 87/100\n",
            "8/8 [==============================] - 21s 3s/step - loss: 0.1436 - accuracy: 0.9499 - val_loss: 2.9221 - val_accuracy: 0.6406\n",
            "Epoch 88/100\n",
            "8/8 [==============================] - 18s 2s/step - loss: 0.1673 - accuracy: 0.9310 - val_loss: 1.3107 - val_accuracy: 0.7500\n",
            "Epoch 89/100\n",
            "8/8 [==============================] - 18s 2s/step - loss: 0.1376 - accuracy: 0.9422 - val_loss: 3.7345 - val_accuracy: 0.5938\n",
            "Epoch 90/100\n",
            "8/8 [==============================] - 18s 2s/step - loss: 0.1837 - accuracy: 0.9177 - val_loss: 3.1920 - val_accuracy: 0.6094\n",
            "Epoch 91/100\n",
            "8/8 [==============================] - 18s 2s/step - loss: 0.1349 - accuracy: 0.9555 - val_loss: 2.2602 - val_accuracy: 0.6836\n",
            "Epoch 92/100\n",
            "8/8 [==============================] - 20s 3s/step - loss: 0.1254 - accuracy: 0.9561 - val_loss: 2.4212 - val_accuracy: 0.6758\n",
            "Epoch 93/100\n",
            "8/8 [==============================] - 18s 2s/step - loss: 0.1765 - accuracy: 0.9221 - val_loss: 3.1492 - val_accuracy: 0.6211\n",
            "Epoch 94/100\n",
            "8/8 [==============================] - 18s 2s/step - loss: 0.1148 - accuracy: 0.9611 - val_loss: 2.8384 - val_accuracy: 0.6445\n",
            "Epoch 95/100\n",
            "8/8 [==============================] - 18s 2s/step - loss: 0.1375 - accuracy: 0.9444 - val_loss: 2.6308 - val_accuracy: 0.6562\n",
            "Epoch 96/100\n",
            "8/8 [==============================] - 21s 3s/step - loss: 0.1272 - accuracy: 0.9533 - val_loss: 2.0155 - val_accuracy: 0.6914\n",
            "Epoch 97/100\n",
            "8/8 [==============================] - 18s 2s/step - loss: 0.1513 - accuracy: 0.9410 - val_loss: 2.6401 - val_accuracy: 0.6562\n",
            "Epoch 98/100\n",
            "8/8 [==============================] - 20s 3s/step - loss: 0.1154 - accuracy: 0.9521 - val_loss: 3.0308 - val_accuracy: 0.6484\n",
            "Epoch 99/100\n",
            "8/8 [==============================] - 18s 2s/step - loss: 0.1493 - accuracy: 0.9499 - val_loss: 1.5121 - val_accuracy: 0.7539\n",
            "Epoch 100/100\n",
            "8/8 [==============================] - 18s 2s/step - loss: 0.1197 - accuracy: 0.9555 - val_loss: 3.3078 - val_accuracy: 0.6445\n"
          ],
          "name": "stdout"
        }
      ]
    },
    {
      "cell_type": "code",
      "metadata": {
        "colab_type": "code",
        "id": "7zNPRWOVJdOH",
        "colab": {
          "base_uri": "https://localhost:8080/",
          "height": 545
        },
        "outputId": "441e0bc0-99aa-4fbe-c3e8-44d1ced8ed2f"
      },
      "source": [
        "import matplotlib.pyplot as plt\n",
        "acc = history.history['accuracy']\n",
        "val_acc = history.history['val_accuracy']\n",
        "loss = history.history['loss']\n",
        "val_loss = history.history['val_loss']\n",
        "\n",
        "epochs = range(len(acc))\n",
        "\n",
        "plt.plot(epochs, acc, 'r', label='Training accuracy')\n",
        "plt.plot(epochs, val_acc, 'b', label='Validation accuracy')\n",
        "plt.title('Training and validation accuracy')\n",
        "\n",
        "plt.figure()\n",
        "\n",
        "plt.plot(epochs, loss, 'r', label='Training Loss')\n",
        "plt.plot(epochs, val_loss, 'b', label='Validation Loss')\n",
        "plt.title('Training and validation loss')\n",
        "plt.legend()\n",
        "\n",
        "plt.show()"
      ],
      "execution_count": 7,
      "outputs": [
        {
          "output_type": "display_data",
          "data": {
            "image/png": "[encoded data removed]",
            "text/plain": [
              "<Figure size 432x288 with 1 Axes>"
            ]
          },
          "metadata": {
            "tags": [],
            "needs_background": "light"
          }
        },
        {
          "output_type": "display_data",
          "data": {
            "image/png": "[encoded data removed]",
            "text/plain": [
              "<Figure size 432x288 with 1 Axes>"
            ]
          },
          "metadata": {
            "tags": [],
            "needs_background": "light"
          }
        }
      ]
    }
  ]
}